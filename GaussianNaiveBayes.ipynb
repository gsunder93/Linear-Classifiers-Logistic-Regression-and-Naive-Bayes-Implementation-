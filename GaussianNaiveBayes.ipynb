{
 "cells": [
  {
   "cell_type": "code",
   "execution_count": 1,
   "metadata": {
    "collapsed": false
   },
   "outputs": [],
   "source": [
    "import numpy as np\n",
    "import pandas as pd\n",
    "import matplotlib.pyplot as plt\n",
    "import math\n",
    "% matplotlib inline"
   ]
  },
  {
   "cell_type": "code",
   "execution_count": 2,
   "metadata": {
    "collapsed": true
   },
   "outputs": [],
   "source": [
    "digits_data=np.loadtxt(\"digits.csv\",delimiter=\",\")"
   ]
  },
  {
   "cell_type": "code",
   "execution_count": 4,
   "metadata": {
    "collapsed": false
   },
   "outputs": [],
   "source": [
    "def test_train_split(X,testsize):\n",
    "    target=np.copy(X[:,-1])\n",
    "    classes=list(np.unique(target))\n",
    "    train=np.empty((1,X.shape[1]))\n",
    "    test=np.empty((1,X.shape[1]))\n",
    "    for i in classes:\n",
    "        rows,columns=X[target==i].shape\n",
    "        seed=np.random.choice(rows,size=int(rows*(1-testsize)),replace=False)\n",
    "        train=np.append(train,X[target==i][seed,:],axis=0)\n",
    "        test=np.append(test,np.delete(X[target==i],seed,axis=0),axis=0)\n",
    "    train=train[1:,:]\n",
    "    test=test[1:,:]\n",
    "    np.random.shuffle(train)\n",
    "    np.random.shuffle(test)\n",
    "    return train[:,:-1],train[:,-1], test[:,:-1],test[:,-1]"
   ]
  },
  {
   "cell_type": "code",
   "execution_count": 5,
   "metadata": {
    "collapsed": true
   },
   "outputs": [],
   "source": [
    "def prior_prob(target):\n",
    "    classes=list(np.unique(target))\n",
    "    prior=[]\n",
    "    for x in classes:\n",
    "        prior.append(float(sum(target==x))/float(len(target)))\n",
    "    return prior"
   ]
  },
  {
   "cell_type": "code",
   "execution_count": 6,
   "metadata": {
    "collapsed": false
   },
   "outputs": [],
   "source": [
    "def var_mean(X,target):\n",
    "    classes=list(np.unique(target))\n",
    "    mean=np.zeros((len(classes),X.shape[1]))\n",
    "    var=np.zeros((len(classes),X.shape[1]))\n",
    "    for x in classes:\n",
    "        mean[x]=np.apply_along_axis(np.mean,0,X[target==x]).reshape(1,X.shape[1])\n",
    "        var[x]=np.apply_along_axis(np.var,0,X[target==x]).reshape(1,X.shape[1])\n",
    "    return mean,var"
   ]
  },
  {
   "cell_type": "code",
   "execution_count": 7,
   "metadata": {
    "collapsed": false
   },
   "outputs": [],
   "source": [
    "def compute_prob(mean,var,test_x,target,prior):\n",
    "    classes=list(np.unique(target.astype(int)))\n",
    "    prob=np.zeros((test_x.shape[0],test_x.shape[1]))\n",
    "    marg_prob=np.zeros((test_x.shape[0],len(np.unique(digits_data))))\n",
    "    for y in classes:\n",
    "        for x in range(0,test_x.shape[0]):\n",
    "            for z in range(0,test_x.shape[1]):\n",
    "                if var[y,z]==0:\n",
    "                    var[y,z]=np.power(np.random.normal(0,0.0001),2)\n",
    "                denominator=math.sqrt(2.0*math.pi*var[y,z])\n",
    "                numerator=math.exp(-(((pow((test_x[x,z]-mean[y,z]),2))/(2.0*var[y,z]))))\n",
    "                prob[x,z]=numerator/denominator\n",
    "        marg_prob[:,y]=list(np.apply_along_axis(np.product,1,prob)*prior[y])\n",
    "    return marg_prob"
   ]
  },
  {
   "cell_type": "code",
   "execution_count": 8,
   "metadata": {
    "collapsed": true
   },
   "outputs": [],
   "source": [
    "def accuracy(ytest,yhat):\n",
    "    right=float((yhat==ytest).sum())\n",
    "    accuracy=right/float(ytest.shape[0])\n",
    "    return accuracy"
   ]
  },
  {
   "cell_type": "code",
   "execution_count": 9,
   "metadata": {
    "collapsed": true
   },
   "outputs": [],
   "source": [
    "def GNB(Xtest,Xtrain,ytrain):\n",
    "    prior=prior_prob(ytrain)\n",
    "    mean,var=var_mean(Xtrain,ytrain)\n",
    "    marg_prob=compute_prob(mean,var,Xtest,ytrain,prior)\n",
    "    yhat=(np.argmax(marg_prob,axis=1)).astype(int)\n",
    "    return yhat"
   ]
  },
  {
   "cell_type": "code",
   "execution_count": 10,
   "metadata": {
    "collapsed": true
   },
   "outputs": [],
   "source": [
    "def learning_curve(Xtrain,Xtest,ytrain,func):\n",
    "    accu=[]\n",
    "    for i in [0.1,0.25,0.5,0.75,1]:\n",
    "        rows,columns=Xtrain.shape\n",
    "        seed=np.random.choice(rows,size=int(rows*i),replace=False)\n",
    "        xtrain=Xtrain[seed,:]\n",
    "        target=ytrain[seed]\n",
    "        accu.append(accuracy(ytest,func(Xtest,xtrain,target)))\n",
    "    return accu    "
   ]
  },
  {
   "cell_type": "code",
   "execution_count": 12,
   "metadata": {
    "collapsed": false
   },
   "outputs": [],
   "source": [
    "#GNB Digits\n",
    "p=[]\n",
    "for i in range(0,10):\n",
    "    Xtrain,ytrain,Xtest,ytest=test_train_split(digits_data,0.2)\n",
    "    p.append(learning_curve(Xtrain,Xtest,ytrain,GNB))\n",
    "p_GNB_digits=np.asarray(p)"
   ]
  },
  {
   "cell_type": "code",
   "execution_count": 23,
   "metadata": {
    "collapsed": false
   },
   "outputs": [
    {
     "name": "stdout",
     "output_type": "stream",
     "text": [
      "Digits Error GNB\n",
      "[ 0.26978022  0.19010989  0.18379121  0.19587912  0.19313187]\n",
      "Standard Deveation\n",
      "[ 0.02511296  0.02986303  0.02452452  0.05227077  0.02686274]\n"
     ]
    }
   ],
   "source": [
    "print \"Digits Error GNB\"\n",
    "print np.mean(list(1-np.array(p_GNB_digits)),axis=0)\n",
    "print \"Standard Deveation\"\n",
    "print np.std(list(1-np.array(p_GNB_digits)),axis=0)"
   ]
  },
  {
   "cell_type": "code",
   "execution_count": null,
   "metadata": {
    "collapsed": true
   },
   "outputs": [],
   "source": []
  },
  {
   "cell_type": "code",
   "execution_count": 15,
   "metadata": {
    "collapsed": true
   },
   "outputs": [],
   "source": [
    "boston_data=np.loadtxt(\"boston.csv\",delimiter=\",\")\n",
    "boston_data_50=np.copy(boston_data)\n",
    "boston_data_75=np.copy(boston_data)\n",
    "boston_data_50[:,-1]=(boston_data_50[:,-1]>=np.median(boston_data_50[:,-1])).astype(int)\n",
    "boston_data_75[:,-1]=(boston_data_75[:,-1]>=np.percentile(boston_data_75[:,-1],75)).astype(int)"
   ]
  },
  {
   "cell_type": "code",
   "execution_count": 16,
   "metadata": {
    "collapsed": false
   },
   "outputs": [],
   "source": [
    "#Logistic Boston 50\n",
    "p=[]\n",
    "for i in range(0,10):\n",
    "    Xtrain,ytrain,Xtest,ytest=test_train_split(boston_data_50,0.2)\n",
    "    p.append(learning_curve(Xtrain,Xtest,ytrain,GNB))\n",
    "p_Boston_50_GNB=np.asarray(p)"
   ]
  },
  {
   "cell_type": "code",
   "execution_count": 24,
   "metadata": {
    "collapsed": false
   },
   "outputs": [
    {
     "name": "stdout",
     "output_type": "stream",
     "text": [
      "Boston50 Error GNB\n",
      "[ 0.25882353  0.24901961  0.24705882  0.24509804  0.24509804]\n",
      "Standard Deveation\n",
      "[ 0.0418709   0.03286873  0.02586452  0.02875074  0.02875074]\n"
     ]
    }
   ],
   "source": [
    "print \"Boston50 Error GNB\"\n",
    "print np.mean(list(1-np.array(p_Boston_50_GNB)),axis=0)\n",
    "print \"Standard Deveation\"\n",
    "print np.std(list(1-np.array(p_Boston_50_GNB)),axis=0)"
   ]
  },
  {
   "cell_type": "code",
   "execution_count": 18,
   "metadata": {
    "collapsed": true
   },
   "outputs": [],
   "source": [
    "#Logistic Boston 75\n",
    "p=[]\n",
    "for i in range(0,10):\n",
    "    Xtrain,ytrain,Xtest,ytest=test_train_split(boston_data_75,0.2)\n",
    "    p.append(learning_curve(Xtrain,Xtest,ytrain,GNB))\n",
    "p_Boston_75_GNB=np.asarray(p)"
   ]
  },
  {
   "cell_type": "code",
   "execution_count": 25,
   "metadata": {
    "collapsed": false
   },
   "outputs": [
    {
     "name": "stdout",
     "output_type": "stream",
     "text": [
      "Boston75 Error GNB\n",
      "[ 0.30196078  0.30686275  0.29313725  0.30098039  0.30392157]\n",
      "Standard Deveation\n",
      "[ 0.08918875  0.05298655  0.05807531  0.04493791  0.04822892]\n"
     ]
    }
   ],
   "source": [
    "print \"Boston75 Error GNB\"\n",
    "print np.mean(list(1-np.array(p_Boston_75_GNB)),axis=0)\n",
    "print \"Standard Deveation\"\n",
    "print np.std(list(1-np.array(p_Boston_75_GNB)),axis=0)"
   ]
  },
  {
   "cell_type": "code",
   "execution_count": null,
   "metadata": {
    "collapsed": true
   },
   "outputs": [],
   "source": []
  }
 ],
 "metadata": {
  "kernelspec": {
   "display_name": "Python 2",
   "language": "python",
   "name": "python2"
  },
  "language_info": {
   "codemirror_mode": {
    "name": "ipython",
    "version": 2
   },
   "file_extension": ".py",
   "mimetype": "text/x-python",
   "name": "python",
   "nbconvert_exporter": "python",
   "pygments_lexer": "ipython2",
   "version": "2.7.9"
  }
 },
 "nbformat": 4,
 "nbformat_minor": 0
}

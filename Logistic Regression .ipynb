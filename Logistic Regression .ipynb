{
 "cells": [
  {
   "cell_type": "code",
   "execution_count": 47,
   "metadata": {
    "collapsed": false
   },
   "outputs": [],
   "source": [
    "import numpy as np\n",
    "import pandas as pd\n",
    "import matplotlib.pyplot as plt\n",
    "import math\n",
    "#%matplotlib inline"
   ]
  },
  {
   "cell_type": "code",
   "execution_count": 2,
   "metadata": {
    "collapsed": true
   },
   "outputs": [],
   "source": [
    "digits_data=np.loadtxt(\"digits.csv\",delimiter=\",\")"
   ]
  },
  {
   "cell_type": "code",
   "execution_count": 26,
   "metadata": {
    "collapsed": true
   },
   "outputs": [],
   "source": [
    "def test_train_split(X,testsize):\n",
    "    target=np.copy(X[:,-1])\n",
    "    classes=list(np.unique(target))\n",
    "    train=np.empty((1,X.shape[1]))\n",
    "    test=np.empty((1,X.shape[1]))\n",
    "    for i in classes:\n",
    "        rows,columns=X[target==i].shape\n",
    "        seed=np.random.choice(rows,size=int(rows*(1-testsize)),replace=False)\n",
    "        train=np.append(train,X[target==i][seed,:],axis=0)\n",
    "        test=np.append(test,np.delete(X[target==i],seed,axis=0),axis=0)\n",
    "    train=train[1:,:]\n",
    "    test=test[1:,:]\n",
    "    np.random.shuffle(train)\n",
    "    np.random.shuffle(test)\n",
    "    return train[:,:-1],train[:,-1], test[:,:-1],test[:,-1]"
   ]
  },
  {
   "cell_type": "code",
   "execution_count": 4,
   "metadata": {
    "collapsed": true
   },
   "outputs": [],
   "source": [
    "def logit_fun(W,X):\n",
    "    p= 1.0 / (1.0 + np.exp(-X.dot(W)))\n",
    "    return p"
   ]
  },
  {
   "cell_type": "code",
   "execution_count": 5,
   "metadata": {
    "collapsed": true
   },
   "outputs": [],
   "source": [
    "def log_likelihood(W,X,target):\n",
    "    p=logit_fun(W,X)\n",
    "    rows, columns = X.shape\n",
    "    log_likelihood=target*np.log(p+1e-24) + (1.0-target)*np.log(1.0- p+1e-24)\n",
    "    return -1.0 * (log_likelihood.sum()) /rows"
   ]
  },
  {
   "cell_type": "code",
   "execution_count": 6,
   "metadata": {
    "collapsed": true
   },
   "outputs": [],
   "source": [
    "def gradient_descent(X,step_size,target):\n",
    "    X=np.insert(X,0,1,axis=1)\n",
    "    rows, columns = X.shape\n",
    "    W=np.zeros((X.shape[1],1))\n",
    "    Wtemp=np.zeros((X.shape[1],1))\n",
    "    target=target.reshape(target.shape[0],1)\n",
    "    epsilon=0.0001\n",
    "    progress=0.01\n",
    "    iteration = 0\n",
    "    init_cost = log_likelihood(W, X, target)\n",
    "    while(iteration<=5000) & (progress >= epsilon ):\n",
    "        Wtemp=np.copy(W)\n",
    "        p=logit_fun(W,X)\n",
    "        gradient = ((target-p).T.dot(X)).T /rows\n",
    "        W = W + step_size*gradient\n",
    "        f_W =log_likelihood(W,X,target)\n",
    "        f_W_temp=log_likelihood(Wtemp,X,target)\n",
    "        progress=np.abs(f_W_temp-f_W)\n",
    "        iteration = iteration + 1\n",
    "    return W"
   ]
  },
  {
   "cell_type": "code",
   "execution_count": 7,
   "metadata": {
    "collapsed": true
   },
   "outputs": [],
   "source": [
    "def Normalize(X):\n",
    "    mean_x = X.mean(axis=0)\n",
    "    std_x = X.std(axis=0)\n",
    "    std_x[std_x==0]=np.random.normal(0,0.0001)\n",
    "    X = (X-mean_x)/std_x\n",
    "    return(X)"
   ]
  },
  {
   "cell_type": "code",
   "execution_count": 8,
   "metadata": {
    "collapsed": true
   },
   "outputs": [],
   "source": [
    "def Logistic_Regression(Xtest,Xtrain,ytrain):\n",
    "    classes=np.unique(digits_data[:,-1])\n",
    "    Xtrain = Normalize(Xtrain)\n",
    "    Xtest = Normalize(Xtest)\n",
    "    p=np.zeros((Xtest.shape[0],len(classes)))\n",
    "    for y in classes:\n",
    "        ytemp=np.copy(ytrain)\n",
    "        ytemp[ytrain==y]=1\n",
    "        ytemp[ytrain!=y]=0\n",
    "        W=gradient_descent(Xtrain,0.005,ytemp)\n",
    "        prob=list(logit_fun(W,np.insert(Xtest,0,1,axis=1)))\n",
    "        p[:,y]=prob\n",
    "    yhat=np.argsort(p,axis=1)[:,p.shape[1]-1]\n",
    "    return yhat"
   ]
  },
  {
   "cell_type": "code",
   "execution_count": 9,
   "metadata": {
    "collapsed": true
   },
   "outputs": [],
   "source": [
    "def accuracy(ytest,yhat):\n",
    "    right=float((yhat==ytest).sum())\n",
    "    accuracy=right/float(ytest.shape[0])\n",
    "    return accuracy"
   ]
  },
  {
   "cell_type": "code",
   "execution_count": 10,
   "metadata": {
    "collapsed": true
   },
   "outputs": [],
   "source": [
    "def learning_curve(Xtrain,Xtest,ytrain,func):\n",
    "    accu=[]\n",
    "    for i in [0.1,0.25,0.5,0.75,1]:\n",
    "        rows,columns=Xtrain.shape\n",
    "        seed=np.random.choice(rows,size=int(rows*i),replace=False)\n",
    "        xtrain=Xtrain[seed,:]\n",
    "        target=ytrain[seed]\n",
    "        accu.append(accuracy(ytest,func(Xtest,xtrain,target)))\n",
    "    return accu        "
   ]
  },
  {
   "cell_type": "code",
   "execution_count": 13,
   "metadata": {
    "collapsed": false
   },
   "outputs": [],
   "source": [
    "#Logistic Digits\n",
    "p=[]\n",
    "for i in range(0,10):\n",
    "    Xtrain,ytrain,Xtest,ytest=test_train_split(digits_data,0.2)\n",
    "    p.append(learning_curve(Xtrain,Xtest,ytrain,Logistic_Regression))\n",
    "p_logistic=np.asarray(p)"
   ]
  },
  {
   "cell_type": "code",
   "execution_count": 39,
   "metadata": {
    "collapsed": false
   },
   "outputs": [
    {
     "name": "stdout",
     "output_type": "stream",
     "text": [
      "Digits Error\n",
      "[ 0.14175824  0.08956044  0.07527473  0.06840659  0.06373626]\n",
      "Standard Deveation\n",
      "[ 0.03054767  0.00887665  0.01153846  0.00970912  0.00958   ]\n"
     ]
    }
   ],
   "source": [
    "print \"Digits Error\"\n",
    "print np.mean(list(1-np.array(p_logistic)),axis=0)\n",
    "print \"Standard Deveation\"\n",
    "print np.std(list(1-np.array(p_logistic)),axis=0)"
   ]
  },
  {
   "cell_type": "code",
   "execution_count": null,
   "metadata": {
    "collapsed": true
   },
   "outputs": [],
   "source": []
  },
  {
   "cell_type": "code",
   "execution_count": 17,
   "metadata": {
    "collapsed": true
   },
   "outputs": [],
   "source": [
    "boston_data=np.loadtxt(\"boston.csv\",delimiter=\",\")"
   ]
  },
  {
   "cell_type": "code",
   "execution_count": 18,
   "metadata": {
    "collapsed": true
   },
   "outputs": [],
   "source": [
    "boston_data_50=np.copy(boston_data)\n",
    "boston_data_75=np.copy(boston_data)\n",
    "boston_data_50[:,-1]=(boston_data_50[:,-1]>=np.median(boston_data_50[:,-1])).astype(int)\n",
    "boston_data_75[:,-1]=(boston_data_75[:,-1]>=np.percentile(boston_data_75[:,-1],75)).astype(int)"
   ]
  },
  {
   "cell_type": "code",
   "execution_count": 19,
   "metadata": {
    "collapsed": false
   },
   "outputs": [],
   "source": [
    "#Logistic Boston 50\n",
    "p_boston_50=[]\n",
    "for i in range(0,10):\n",
    "    Xtrain,ytrain,Xtest,ytest=test_train_split(boston_data_50,0.2)\n",
    "    p.append(learning_curve(Xtrain,Xtest,ytrain,Logistic_Regression))\n",
    "p_boston_50=np.asarray(p)"
   ]
  },
  {
   "cell_type": "code",
   "execution_count": 36,
   "metadata": {
    "collapsed": false
   },
   "outputs": [
    {
     "name": "stdout",
     "output_type": "stream",
     "text": [
      "Boston 50 Error\n",
      "[ 0.160585    0.13742728  0.12930403  0.12832094  0.12549558]\n",
      "Standard Deveation\n",
      "[ 0.03802982  0.05205586  0.05863415  0.06400236  0.06598957]\n"
     ]
    }
   ],
   "source": [
    "print \"Boston 50 Error\"\n",
    "print np.mean(list(1-np.array(p_boston_50)),axis=0)\n",
    "print \"Standard Deveation\"\n",
    "print np.std(list(1-np.array(p_boston_50)),axis=0)"
   ]
  },
  {
   "cell_type": "code",
   "execution_count": 27,
   "metadata": {
    "collapsed": true
   },
   "outputs": [],
   "source": [
    "#Logistic Boston 75\n",
    "p_boston_75=[]\n",
    "for i in range(0,10):\n",
    "    Xtrain,ytrain,Xtest,ytest=test_train_split(boston_data_75,0.2)\n",
    "    p.append(learning_curve(Xtrain,Xtest,ytrain,Logistic_Regression))\n",
    "p_boston_75=np.asarray(p)"
   ]
  },
  {
   "cell_type": "code",
   "execution_count": 38,
   "metadata": {
    "collapsed": false
   },
   "outputs": [
    {
     "name": "stdout",
     "output_type": "stream",
     "text": [
      "Boston 75 Error\n",
      "[ 0.15725329  0.12557638  0.1163677   0.11367028  0.1117674 ]\n",
      "Standard Deveation\n",
      "[ 0.04508095  0.04254001  0.04524606  0.05007405  0.05104965]\n"
     ]
    }
   ],
   "source": [
    "print \"Boston 75 Error\"\n",
    "print np.mean(list(1-np.array(p_boston_75)),axis=0)\n",
    "print \"Standard Deveation\"\n",
    "print np.std(list(1-np.array(p_boston_75)),axis=0)"
   ]
  },
  {
   "cell_type": "code",
   "execution_count": 50,
   "metadata": {
    "collapsed": false
   },
   "outputs": [
    {
     "data": {
      "image/png": "[encoded data removed]",
      "text/plain": [
       "<matplotlib.figure.Figure at 0xccc3208>"
      ]
     },
     "metadata": {},
     "output_type": "display_data"
    }
   ],
   "source": [
    "x = [10, 25, 50, 75, 100]\n",
    "y0 = np.mean(list(1-np.array(p_boston_50)),axis=0)\n",
    "y1 = [ 0.25882353,  0.24901961,  0.24705882,  0.24509804,  0.24509804]\n",
    "std0 = np.std(list(1-np.array(p_boston_50)),axis=0)\n",
    "std1 = [ 0.0418709,  0.03286873, 0.02586452,  0.02875074,  0.02875074]\n",
    "t0 = plt.errorbar(x, y0, std0, label='LR')\n",
    "t1 = plt.errorbar(x, y1, std1, label='NB')\n",
    "plt.xlim(0, 105)\n",
    "plt.title('Learning Curve on Boston50 dataset')\n",
    "plt.legend()\n",
    "plt.savefig(\"Learning_Curve_Boston_50.png\")\n",
    "plt.show()"
   ]
  },
  {
   "cell_type": "code",
   "execution_count": 52,
   "metadata": {
    "collapsed": false
   },
   "outputs": [
    {
     "data": {
      "image/png": "[encoded data removed]",
      "text/plain": [
       "<matplotlib.figure.Figure at 0xceb5780>"
      ]
     },
     "metadata": {},
     "output_type": "display_data"
    }
   ],
   "source": [
    "x = [10, 25, 50, 75, 100]\n",
    "y0 = np.mean(list(1-np.array(p_boston_75)),axis=0)\n",
    "y1 = [ 0.30196078,  0.30686275,  0.29313725,  0.30098039,  0.30392157]\n",
    "std0 = np.std(list(1-np.array(p_boston_50)),axis=0)\n",
    "std1 = [ 0.08918875,  0.05298655,  0.05807531,  0.04493791,  0.04822892]\n",
    "t0 = plt.errorbar(x, y0, std0, label='LR')\n",
    "t1 = plt.errorbar(x, y1, std1, label='NB')\n",
    "plt.xlim(0, 105)\n",
    "plt.title('Learning Curve on Boston75 dataset')\n",
    "plt.legend()\n",
    "plt.savefig(\"Learning_Curve_Boston_75.png\")\n",
    "plt.show()"
   ]
  },
  {
   "cell_type": "code",
   "execution_count": 51,
   "metadata": {
    "collapsed": false
   },
   "outputs": [
    {
     "data": {
      "image/png": "[encoded data removed]",
      "text/plain": [
       "<matplotlib.figure.Figure at 0xddacf98>"
      ]
     },
     "metadata": {},
     "output_type": "display_data"
    }
   ],
   "source": [
    "x = [10, 25, 50, 75, 100]\n",
    "y0 = np.mean(list(1-np.array(p_logistic)),axis=0)\n",
    "y1 = [ 0.26978022,  0.19010989,  0.18379121,  0.19587912,  0.19313187]\n",
    "std0 = np.std(list(1-np.array(p_logistic)),axis=0)\n",
    "std1 = [ 0.02511296,  0.02986303,  0.02452452,  0.05227077,  0.02686274]\n",
    "t0 = plt.errorbar(x, y0, std0, label='LR')\n",
    "t1 = plt.errorbar(x, y1, std1, label='NB')\n",
    "plt.xlim(0, 105)\n",
    "plt.title('Learning Curve on Digits dataset')\n",
    "plt.legend()\n",
    "plt.savefig(\"Learning_Curve_Digits.png\")\n",
    "plt.show()"
   ]
  },
  {
   "cell_type": "code",
   "execution_count": null,
   "metadata": {
    "collapsed": true
   },
   "outputs": [],
   "source": []
  }
 ],
 "metadata": {
  "kernelspec": {
   "display_name": "Python 2",
   "language": "python",
   "name": "python2"
  },
  "language_info": {
   "codemirror_mode": {
    "name": "ipython",
    "version": 2
   },
   "file_extension": ".py",
   "mimetype": "text/x-python",
   "name": "python",
   "nbconvert_exporter": "python",
   "pygments_lexer": "ipython2",
   "version": "2.7.9"
  }
 },
 "nbformat": 4,
 "nbformat_minor": 0
}
